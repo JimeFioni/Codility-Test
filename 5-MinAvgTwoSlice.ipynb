{
 "cells": [
  {
   "cell_type": "markdown",
   "metadata": {},
   "source": [
    "A non-empty array A consisting of N integers is given. A pair of integers (P, Q), such that 0 ≤ P < Q < N, is called a slice of array A (notice that the slice contains at least two elements). The average of a slice (P, Q) is the sum of A[P] + A[P + 1] + ... + A[Q] divided by the length of the slice. To be precise, the average equals (A[P] + A[P + 1] + ... + A[Q]) / (Q − P + 1).\n",
    "\n",
    "For example, array A such that:\n",
    "\n",
    "    A[0] = 4\n",
    "    A[1] = 2\n",
    "    A[2] = 2\n",
    "    A[3] = 5\n",
    "    A[4] = 1\n",
    "    A[5] = 5\n",
    "    A[6] = 8\n",
    "contains the following example slices:\n",
    "\n",
    "slice (1, 2), whose average is (2 + 2) / 2 = 2;\n",
    "slice (3, 4), whose average is (5 + 1) / 2 = 3;\n",
    "slice (1, 4), whose average is (2 + 2 + 5 + 1) / 4 = 2.5.\n",
    "The goal is to find the starting position of a slice whose average is minimal.\n",
    "\n",
    "Write a function:\n",
    "\n",
    "def solution(A)\n",
    "\n",
    "that, given a non-empty array A consisting of N integers, returns the starting position of the slice with the minimal average. If there is more than one slice with a minimal average, you should return the smallest starting position of such a slice.\n",
    "\n",
    "For example, given array A such that:\n",
    "\n",
    "    A[0] = 4\n",
    "    A[1] = 2\n",
    "    A[2] = 2\n",
    "    A[3] = 5\n",
    "    A[4] = 1\n",
    "    A[5] = 5\n",
    "    A[6] = 8\n",
    "the function should return 1, as explained above.\n",
    "\n",
    "Write an efficient algorithm for the following assumptions:\n",
    "\n",
    "N is an integer within the range [2..100,000];\n",
    "each element of array A is an integer within the range [−10,000..10,000]."
   ]
  },
  {
   "cell_type": "markdown",
   "metadata": {},
   "source": [
    "Se proporciona una matriz A no vacía que consta de N números enteros. Un par de números enteros (P, Q), tales que 0 ≤ P < Q < N, se denomina porción de la matriz A (obsérvese que la porción contiene al menos dos elementos). El promedio de un sector (P, Q) es la suma de A[P] + A[P + 1] + ... + A[Q] dividida por la longitud del sector. Para ser precisos, el promedio es igual a (A[P] + A[P + 1] + ... + A[Q]) / (Q − P + 1).\n",
    "\n",
    "Por ejemplo, la matriz A tal que:\n",
    "\n",
    "     A[0] = 4\n",
    "     A[1] = 2\n",
    "     A[2] = 2\n",
    "     A[3] = 5\n",
    "     A[4] = 1\n",
    "     A[5] = 5\n",
    "     A[6] = 8\n",
    "contiene los siguientes sectores de ejemplo:\n",
    "\n",
    "segmento (1, 2), cuyo promedio es (2 + 2) / 2 = 2;\n",
    "rebanada (3, 4), cuyo promedio es (5 + 1) / 2 = 3;\n",
    "rebanada (1, 4), cuyo promedio es (2 + 2 + 5 + 1) / 4 = 2,5.\n",
    "El objetivo es encontrar la posición inicial de un segmento cuyo promedio sea mínimo.\n",
    "\n",
    "Escribe una función:\n",
    "\n",
    "solución definida (A)\n",
    "\n",
    "que, dada una matriz A no vacía que consta de N enteros, devuelve la posición inicial del segmento con el promedio mínimo. Si hay más de un segmento con un promedio mínimo, debe devolver la posición inicial más pequeña de dicho segmento.\n",
    "\n",
    "Por ejemplo, dada la matriz A tal que:\n",
    "\n",
    "     A[0] = 4\n",
    "     A[1] = 2\n",
    "     A[2] = 2\n",
    "     A[3] = 5\n",
    "     A[4] = 1\n",
    "     A[5] = 5\n",
    "     A[6] = 8\n",
    "la función debería devolver 1, como se explicó anteriormente.\n",
    "\n",
    "Escriba un algoritmo eficiente para los siguientes supuestos:\n",
    "\n",
    "N es un número entero dentro del rango [2..100.000];\n",
    "cada elemento de la matriz A es un número entero dentro del rango [−10,000..10,000]."
   ]
  },
  {
   "cell_type": "code",
   "execution_count": null,
   "metadata": {},
   "outputs": [],
   "source": [
    "def solucion(A):\n",
    "    N = len(A)\n",
    "    min_avg = (A[0] + A[1]) / 2.0\n",
    "    pos_min = 0\n",
    "\n",
    "    for i in range(2, N):\n",
    "        avg_2 = (A[i - 1] + A[i]) / 2.0\n",
    "        avg_3 = (A[i - 2] + A[i - 1] + A[i]) / 3.0\n",
    "\n",
    "        min_avg_actual = min(avg_2, avg_3)\n",
    "\n",
    "        if min_avg_actual < min_avg:\n",
    "            min_avg = min_avg_actual\n",
    "            pos_min = i - 2 if avg_3 < avg_2 else i - 1\n",
    "\n",
    "    return pos_min"
   ]
  },
  {
   "cell_type": "code",
   "execution_count": null,
   "metadata": {},
   "outputs": [],
   "source": [
    "A = [4, 2, 2, 5, 1, 5, 8]\n",
    "print(solucion(A))  # Debería devolver 1"
   ]
  },
  {
   "cell_type": "markdown",
   "metadata": {},
   "source": [
    "Esta solución tiene una complejidad temporal de O(N) ya que realiza un único recorrido del array."
   ]
  }
 ],
 "metadata": {
  "language_info": {
   "name": "python"
  }
 },
 "nbformat": 4,
 "nbformat_minor": 2
}
