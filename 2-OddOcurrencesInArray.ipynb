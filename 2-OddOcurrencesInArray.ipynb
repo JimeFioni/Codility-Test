{
 "cells": [
  {
   "cell_type": "markdown",
   "metadata": {},
   "source": [
    "A non-empty array A consisting of N integers is given. The array contains an odd number of elements, and each element of the array can be paired with another element that has the same value, except for one element that is left unpaired.\n",
    "\n",
    "For example, in array A such that:\n",
    "\n",
    "  A[0] = 9  A[1] = 3  A[2] = 9\n",
    "  A[3] = 3  A[4] = 9  A[5] = 7\n",
    "  A[6] = 9\n",
    "the elements at indexes 0 and 2 have value 9,\n",
    "the elements at indexes 1 and 3 have value 3,\n",
    "the elements at indexes 4 and 6 have value 9,\n",
    "the element at index 5 has value 7 and is unpaired.\n",
    "Write a function:\n",
    "\n",
    "def solution(A)\n",
    "\n",
    "that, given an array A consisting of N integers fulfilling the above conditions, returns the value of the unpaired element.\n",
    "\n",
    "For example, given array A such that:\n",
    "\n",
    "  A[0] = 9  A[1] = 3  A[2] = 9\n",
    "  A[3] = 3  A[4] = 9  A[5] = 7\n",
    "  A[6] = 9\n",
    "the function should return 7, as explained in the example above.\n",
    "\n",
    "Write an efficient algorithm for the following assumptions:\n",
    "\n",
    "N is an odd integer within the range [1..1,000,000];\n",
    "each element of array A is an integer within the range [1..1,000,000,000];\n",
    "all but one of the values in A occur an even number of times."
   ]
  },
  {
   "cell_type": "markdown",
   "metadata": {},
   "source": [
    "Se proporciona una matriz A no vacía que consta de N números enteros. La matriz contiene un número impar de elementos y cada elemento de la matriz se puede emparejar con otro elemento que tenga el mismo valor, excepto un elemento que no se empareja.\n",
    "\n",
    "Por ejemplo, en la matriz A tal que:\n",
    "\n",
    "   A[0] = 9 A[1] = 3 A[2] = 9\n",
    "   A[3] = 3 A[4] = 9 A[5] = 7\n",
    "   Un[6] = 9\n",
    "los elementos en los índices 0 y 2 tienen el valor 9,\n",
    "los elementos en los índices 1 y 3 tienen el valor 3,\n",
    "los elementos en los índices 4 y 6 tienen el valor 9,\n",
    "el elemento en el índice 5 tiene el valor 7 y no está emparejado.\n",
    "Escribe una función:\n",
    "\n",
    "solución definida (A)\n",
    "\n",
    "que, dada una matriz A que consta de N números enteros que cumplen las condiciones anteriores, devuelve el valor del elemento no apareado.\n",
    "\n",
    "Por ejemplo, dada la matriz A tal que:\n",
    "\n",
    "   A[0] = 9 A[1] = 3 A[2] = 9\n",
    "   A[3] = 3 A[4] = 9 A[5] = 7\n",
    "   Un[6] = 9\n",
    "la función debería devolver 7, como se explica en el ejemplo anterior.\n",
    "\n",
    "Escriba un algoritmo eficiente para los siguientes supuestos:\n",
    "\n",
    "N es un número entero impar dentro del rango [1..1.000.000];\n",
    "cada elemento de la matriz A es un número entero dentro del rango [1..1,000,000,000];\n",
    "todos los valores de A menos uno ocurren un número par de veces."
   ]
  },
  {
   "cell_type": "code",
   "execution_count": null,
   "metadata": {},
   "outputs": [],
   "source": [
    "def oddOcurrences(A):\n",
    "    # Utilizar XOR para encontrar el elemento sin pareja\n",
    "    resultado = 0\n",
    "    \n",
    "    for elemento in A:\n",
    "        resultado ^= elemento\n",
    "    \n",
    "    return resultado"
   ]
  },
  {
   "cell_type": "code",
   "execution_count": null,
   "metadata": {},
   "outputs": [],
   "source": [
    "A = [9, 3, 9, 3, 9, 7, 9]\n",
    "print(oddOcurrences(A))  # Debería devolver 7"
   ]
  },
  {
   "cell_type": "markdown",
   "metadata": {},
   "source": [
    "O(N) or O(N*log(N))"
   ]
  },
  {
   "cell_type": "markdown",
   "metadata": {},
   "source": [
    "Esta solución aprovecha la operación XOR. Cuando aplicas XOR a un número consigo mismo, el resultado es 0. Al realizar XOR en todos los elementos del array, los pares se cancelarán entre sí, dejando solo el elemento sin pareja en el resultado.\n",
    "\n",
    "Este algoritmo tiene una complejidad temporal de O(N) y no requiere espacio adicional. Es eficiente y adecuado para las restricciones dadas."
   ]
  }
 ],
 "metadata": {
  "language_info": {
   "name": "python"
  }
 },
 "nbformat": 4,
 "nbformat_minor": 2
}
