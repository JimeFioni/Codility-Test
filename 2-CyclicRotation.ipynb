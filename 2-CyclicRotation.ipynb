{
 "cells": [
  {
   "cell_type": "markdown",
   "metadata": {},
   "source": [
    "An array A consisting of N integers is given. Rotation of the array means that each element is shifted right by one index, and the last element of the array is moved to the first place. For example, the rotation of array A = [3, 8, 9, 7, 6] is [6, 3, 8, 9, 7] (elements are shifted right by one index and 6 is moved to the first place).\n",
    "\n",
    "The goal is to rotate array A K times; that is, each element of A will be shifted to the right K times.\n",
    "\n",
    "Write a function:\n",
    "\n",
    "def solution(A, K)\n",
    "\n",
    "that, given an array A consisting of N integers and an integer K, returns the array A rotated K times.\n",
    "\n",
    "For example, given\n",
    "\n",
    "    A = [3, 8, 9, 7, 6]\n",
    "    K = 3\n",
    "the function should return [9, 7, 6, 3, 8]. Three rotations were made:\n",
    "\n",
    "    [3, 8, 9, 7, 6] -> [6, 3, 8, 9, 7]\n",
    "    [6, 3, 8, 9, 7] -> [7, 6, 3, 8, 9]\n",
    "    [7, 6, 3, 8, 9] -> [9, 7, 6, 3, 8]\n",
    "For another example, given\n",
    "\n",
    "    A = [0, 0, 0]\n",
    "    K = 1\n",
    "the function should return [0, 0, 0]\n",
    "\n",
    "Given\n",
    "\n",
    "    A = [1, 2, 3, 4]\n",
    "    K = 4\n",
    "the function should return [1, 2, 3, 4]\n",
    "\n",
    "Assume that:\n",
    "\n",
    "N and K are integers within the range [0..100];\n",
    "each element of array A is an integer within the range [−1,000..1,000].\n",
    "In your solution, focus on correctness. The performance of your solution will not be the focus of the assessment."
   ]
  },
  {
   "cell_type": "markdown",
   "metadata": {},
   "source": [
    "Se proporciona una matriz A que consta de N números enteros. La rotación de la matriz significa que cada elemento se desplaza un índice hacia la derecha y el último elemento de la matriz se mueve al primer lugar. Por ejemplo, la rotación de la matriz A = [3, 8, 9, 7, 6] es [6, 3, 8, 9, 7] (los elementos se desplazan un índice hacia la derecha y 6 se mueve al primer lugar).\n",
    "\n",
    "El objetivo es rotar la matriz A K veces; es decir, cada elemento de A se desplazará hacia la derecha K veces.\n",
    "\n",
    "Escribe una función:\n",
    "\n",
    "solución definida (A, K)\n",
    "\n",
    "que, dada una matriz A que consta de N números enteros y un número entero K, devuelve la matriz A rotada K veces.\n",
    "\n",
    "Por ejemplo, dado\n",
    "\n",
    "     A = [3, 8, 9, 7, 6]\n",
    "     k = 3\n",
    "la función debería devolver [9, 7, 6, 3, 8]. Se realizaron tres rotaciones:\n",
    "\n",
    "     [3, 8, 9, 7, 6] -> [6, 3, 8, 9, 7]\n",
    "     [6, 3, 8, 9, 7] -> [7, 6, 3, 8, 9]\n",
    "     [7, 6, 3, 8, 9] -> [9, 7, 6, 3, 8]\n",
    "Para otro ejemplo, dado\n",
    "\n",
    "     A = [0, 0, 0]\n",
    "     k = 1\n",
    "la función debería devolver [0, 0, 0]\n",
    "\n",
    "Dado\n",
    "\n",
    "     A = [1, 2, 3, 4]\n",
    "     k = 4\n",
    "la función debería devolver [1, 2, 3, 4]\n",
    "\n",
    "Asumir que:\n",
    "\n",
    "N y K son números enteros dentro del rango [0..100];\n",
    "cada elemento de la matriz A es un número entero dentro del rango [−1,000..1,000].\n",
    "En su solución, concéntrese en la corrección. El rendimiento de su solución no será el foco de la evaluación."
   ]
  },
  {
   "cell_type": "code",
   "execution_count": null,
   "metadata": {},
   "outputs": [],
   "source": [
    "def cyclic(A, K):\n",
    "    # Verificar si el array está vacío o si K es cero\n",
    "    if not A or K == 0:\n",
    "        return A\n",
    "    \n",
    "    # Calcular el número efectivo de rotaciones tomando el resto\n",
    "    # para evitar rotaciones innecesarias (rotar el array por su longitud no tiene efecto)\n",
    "    rotaciones_efectivas = K % len(A)\n",
    "    \n",
    "    # Realizar la rotación mediante el uso de cortes en el array\n",
    "    array_rotado = A[-rotaciones_efectivas:] + A[:-rotaciones_efectivas]\n",
    "    \n",
    "    return array_rotado\n",
    "\n"
   ]
  },
  {
   "cell_type": "code",
   "execution_count": null,
   "metadata": {},
   "outputs": [],
   "source": [
    "A1 = [3, 8, 9, 7, 6]\n",
    "K1 = 3\n",
    "print(cyclic(A1, K1))  # Debería devolver [9, 7, 6, 3, 8]"
   ]
  },
  {
   "cell_type": "code",
   "execution_count": null,
   "metadata": {},
   "outputs": [],
   "source": [
    "A2 = [0, 0, 0]\n",
    "K2 = 1\n",
    "print(cyclic(A2, K2))  # Debería devolver [0, 0, 0]"
   ]
  },
  {
   "cell_type": "code",
   "execution_count": null,
   "metadata": {},
   "outputs": [],
   "source": [
    "A3 = [1, 2, 3, 4]\n",
    "K3 = 4\n",
    "print(cyclic(A3, K3))  # Debería devolver [1, 2, 3, 4]"
   ]
  },
  {
   "cell_type": "markdown",
   "metadata": {},
   "source": [
    "Esta función calcula el número efectivo de rotaciones para minimizar rotaciones innecesarias y luego corta el array según sea necesario para realizar la rotación. Ten en cuenta que esta solución se centra en la corrección más que en el rendimiento."
   ]
  }
 ],
 "metadata": {
  "language_info": {
   "name": "python"
  }
 },
 "nbformat": 4,
 "nbformat_minor": 2
}
