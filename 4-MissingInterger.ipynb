{
 "cells": [
  {
   "cell_type": "markdown",
   "metadata": {},
   "source": [
    "Write a function:\n",
    "\n",
    "def solution(A)\n",
    "\n",
    "that, given an array A of N integers, returns the smallest positive integer (greater than 0) that does not occur in A.\n",
    "\n",
    "For example, given A = [1, 3, 6, 4, 1, 2], the function should return 5.\n",
    "\n",
    "Given A = [1, 2, 3], the function should return 4.\n",
    "\n",
    "Given A = [−1, −3], the function should return 1.\n",
    "\n",
    "Write an efficient algorithm for the following assumptions:\n",
    "\n",
    "N is an integer within the range [1..100,000];\n",
    "each element of array A is an integer within the range [−1,000,000..1,000,000]."
   ]
  },
  {
   "cell_type": "markdown",
   "metadata": {},
   "source": [
    "Escribe una función:\n",
    "\n",
    "solución definida (A)\n",
    "\n",
    "que, dada una matriz A de N enteros, devuelve el entero positivo más pequeño (mayor que 0) que no ocurre en A.\n",
    "\n",
    "Por ejemplo, dado A = [1, 3, 6, 4, 1, 2], la función debería devolver 5.\n",
    "\n",
    "Dado A = [1, 2, 3], la función debería devolver 4.\n",
    "\n",
    "Dado A = [−1, −3], la función debería devolver 1.\n",
    "\n",
    "Escriba un algoritmo eficiente para los siguientes supuestos:\n",
    "\n",
    "N es un número entero dentro del rango [1..100.000];\n",
    "cada elemento de la matriz A es un número entero dentro del rango [−1.000.000..1.000.000]."
   ]
  },
  {
   "cell_type": "code",
   "execution_count": null,
   "metadata": {},
   "outputs": [],
   "source": [
    "def solution(A):\n",
    "    # Filtrar los números positivos y eliminar duplicados\n",
    "    numeros_positivos = set(filter(lambda x: x > 0, A))\n",
    "\n",
    "    # Si no hay números positivos, el resultado es 1\n",
    "    if not numeros_positivos:\n",
    "        return 1\n",
    "\n",
    "    # Encontrar el menor número positivo que no está en el conjunto\n",
    "    for i in range(1, len(A) + 2):\n",
    "        if i not in numeros_positivos:\n",
    "            return i"
   ]
  },
  {
   "cell_type": "code",
   "execution_count": null,
   "metadata": {},
   "outputs": [],
   "source": [
    "A1 = [1, 3, 6, 4, 1, 2]\n",
    "A2 = [1, 2, 3]\n",
    "A3 = [-1, -3]\n",
    "\n",
    "print(solution(A1))  # Debería devolver 5\n",
    "print(solution(A2))  # Debería devolver 4\n",
    "print(solution(A3))  # Debería devolver 1"
   ]
  },
  {
   "cell_type": "markdown",
   "metadata": {},
   "source": [
    "Esta función encuentra el conjunto de números positivos en el array A y luego busca el menor número positivo que no está en ese conjunto. Si no hay números positivos en A, devuelve 1. La solución tiene una complejidad temporal de O(N) y es eficiente para las restricciones dadas."
   ]
  }
 ],
 "metadata": {
  "language_info": {
   "name": "python"
  }
 },
 "nbformat": 4,
 "nbformat_minor": 2
}
