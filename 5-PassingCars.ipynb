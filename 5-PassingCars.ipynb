{
 "cells": [
  {
   "cell_type": "markdown",
   "metadata": {},
   "source": [
    "A non-empty array A consisting of N integers is given. The consecutive elements of array A represent consecutive cars on a road.\n",
    "\n",
    "Array A contains only 0s and/or 1s:\n",
    "\n",
    "0 represents a car traveling east,\n",
    "1 represents a car traveling west.\n",
    "The goal is to count passing cars. We say that a pair of cars (P, Q), where 0 ≤ P < Q < N, is passing when P is traveling to the east and Q is traveling to the west.\n",
    "\n",
    "For example, consider array A such that:\n",
    "\n",
    "  A[0] = 0\n",
    "  A[1] = 1\n",
    "  A[2] = 0\n",
    "  A[3] = 1\n",
    "  A[4] = 1\n",
    "We have five pairs of passing cars: (0, 1), (0, 3), (0, 4), (2, 3), (2, 4).\n",
    "\n",
    "Write a function:\n",
    "\n",
    "def solution(A)\n",
    "\n",
    "that, given a non-empty array A of N integers, returns the number of pairs of passing cars.\n",
    "\n",
    "The function should return −1 if the number of pairs of passing cars exceeds 1,000,000,000.\n",
    "\n",
    "For example, given:\n",
    "\n",
    "  A[0] = 0\n",
    "  A[1] = 1\n",
    "  A[2] = 0\n",
    "  A[3] = 1\n",
    "  A[4] = 1\n",
    "the function should return 5, as explained above.\n",
    "\n",
    "Write an efficient algorithm for the following assumptions:\n",
    "\n",
    "N is an integer within the range [1..100,000];\n",
    "each element of array A is an integer that can have one of the following values: 0, 1."
   ]
  },
  {
   "cell_type": "markdown",
   "metadata": {},
   "source": [
    "Se proporciona una matriz A no vacía que consta de N números enteros. Los elementos consecutivos del conjunto A representan automóviles consecutivos en una carretera.\n",
    "\n",
    "La matriz A contiene solo 0 y/o 1:\n",
    "\n",
    "0 representa un automóvil que viaja hacia el este,\n",
    "1 representa un automóvil que viaja hacia el oeste.\n",
    "El objetivo es contar los coches que pasan. Decimos que un par de automóviles (P, Q), donde 0 ≤ P < Q < N, pasa cuando P viaja hacia el este y Q viaja hacia el oeste.\n",
    "\n",
    "Por ejemplo, considere la matriz A tal que:\n",
    "\n",
    "   A[0] = 0\n",
    "   A[1] = 1\n",
    "   A[2] = 0\n",
    "   A[3] = 1\n",
    "   A[4] = 1\n",
    "Tenemos cinco pares de autos que pasan: (0, 1), (0, 3), (0, 4), (2, 3), (2, 4).\n",
    "\n",
    "Escribe una función:\n",
    "\n",
    "solución definida (A)\n",
    "\n",
    "que, dada una matriz A no vacía de N enteros, devuelve el número de pares de autos que pasan.\n",
    "\n",
    "La función debería devolver −1 si el número de pares de automóviles que pasan excede 1.000.000.000.\n",
    "\n",
    "Por ejemplo, dado:\n",
    "\n",
    "   A[0] = 0\n",
    "   A[1] = 1\n",
    "   A[2] = 0\n",
    "   A[3] = 1\n",
    "   A[4] = 1\n",
    "la función debería devolver 5, como se explicó anteriormente.\n",
    "\n",
    "Escriba un algoritmo eficiente para los siguientes supuestos:\n",
    "\n",
    "N es un número entero dentro del rango [1..100.000];\n",
    "cada elemento de la matriz A es un número entero que puede tener uno de los siguientes valores: 0, 1."
   ]
  },
  {
   "cell_type": "code",
   "execution_count": null,
   "metadata": {},
   "outputs": [],
   "source": [
    "def contar_autos(A):\n",
    "    autos_al_este = 0\n",
    "    pares_pasando = 0\n",
    "\n",
    "    for auto in A:\n",
    "        if auto == 0:\n",
    "            # Contar el número de autos que viajan hacia el este\n",
    "            autos_al_este += 1\n",
    "        else:\n",
    "            # Si se encuentra un auto que viaja hacia el oeste, sumar el conteo de autos que viajan hacia el este a los pares pasando\n",
    "            pares_pasando += autos_al_este\n",
    "\n",
    "            # Verificar el límite de 1,000,000,000 pares pasando\n",
    "            if pares_pasando > 1000000000:\n",
    "                return -1\n",
    "\n",
    "    return pares_pasando"
   ]
  },
  {
   "cell_type": "code",
   "execution_count": null,
   "metadata": {},
   "outputs": [],
   "source": [
    "A = [0, 1, 0, 1, 1]\n",
    "print(contar_autos(A))  # Debería devolver 5"
   ]
  },
  {
   "cell_type": "markdown",
   "metadata": {},
   "source": [
    "Esta solución itera a través del array, contando los autos que viajan hacia el este y sumando ese conteo a los pares pasando cada vez que se encuentra un auto que viaja hacia el oeste. La función también verifica el límite de 1,000,000,000 pares pasando y devuelve -1 si se excede. La complejidad temporal de esta solución es O(N), lo que la hace eficiente para las restricciones dadas."
   ]
  }
 ],
 "metadata": {
  "language_info": {
   "name": "python"
  }
 },
 "nbformat": 4,
 "nbformat_minor": 2
}
