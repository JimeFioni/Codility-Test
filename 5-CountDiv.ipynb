{
 "cells": [
  {
   "cell_type": "markdown",
   "metadata": {},
   "source": [
    "Write a function:\n",
    "\n",
    "def solution(A, B, K)\n",
    "\n",
    "that, given three integers A, B and K, returns the number of integers within the range [A..B] that are divisible by K, i.e.:\n",
    "\n",
    "{ i : A ≤ i ≤ B, i mod K = 0 }\n",
    "\n",
    "For example, for A = 6, B = 11 and K = 2, your function should return 3, because there are three numbers divisible by 2 within the range [6..11], namely 6, 8 and 10.\n",
    "\n",
    "Write an efficient algorithm for the following assumptions:\n",
    "\n",
    "A and B are integers within the range [0..2,000,000,000];\n",
    "K is an integer within the range [1..2,000,000,000];\n",
    "A ≤ B."
   ]
  },
  {
   "cell_type": "markdown",
   "metadata": {},
   "source": [
    "Escribe una función:\n",
    "\n",
    "solución definida (A, B, K)\n",
    "\n",
    "que, dados tres números enteros A, B y K, devuelve el número de números enteros dentro del rango [A..B] que son divisibles por K, es decir:\n",
    "\n",
    "{yo: A ≤ yo ≤ B, yo mod K = 0}\n",
    "\n",
    "Por ejemplo, para A = 6, B = 11 y K = 2, su función debería devolver 3, porque hay tres números divisibles por 2 dentro del rango [6..11], es decir, 6, 8 y 10.\n",
    "\n",
    "Escriba un algoritmo eficiente para los siguientes supuestos:\n",
    "\n",
    "A y B son números enteros dentro del rango [0..2.000.000.000];\n",
    "K es un número entero dentro del rango [1..2.000.000.000];\n",
    "A ≤ B."
   ]
  },
  {
   "cell_type": "code",
   "execution_count": null,
   "metadata": {},
   "outputs": [],
   "source": [
    "def contar_divisibles(A, B, K):\n",
    "    # Calcular el número de enteros divisibles por K en el rango [A..B]\n",
    "    cantidad_divisibles = (B // K) - (A // K)\n",
    "\n",
    "    # Ajustar la cuenta si A es divisible por K\n",
    "    if A % K == 0:\n",
    "        cantidad_divisibles += 1\n",
    "\n",
    "    return cantidad_divisibles"
   ]
  },
  {
   "cell_type": "code",
   "execution_count": null,
   "metadata": {},
   "outputs": [],
   "source": [
    "A = 6\n",
    "B = 11\n",
    "K = 2\n",
    "print(contar_divisibles(A, B, K))  # Debería devolver 3"
   ]
  },
  {
   "cell_type": "markdown",
   "metadata": {},
   "source": [
    "Esta solución calcula el número de enteros en el rango [A..B] que son divisibles por K tomando la división entera de B por K y restando la división entera de A por K. Luego ajusta la cuenta si A es divisible por K. La complejidad temporal de esta solución es O(1), lo que la hace eficiente para las restricciones dadas."
   ]
  }
 ],
 "metadata": {
  "language_info": {
   "name": "python"
  }
 },
 "nbformat": 4,
 "nbformat_minor": 2
}
