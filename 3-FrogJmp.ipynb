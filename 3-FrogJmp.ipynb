{
 "cells": [
  {
   "cell_type": "markdown",
   "metadata": {},
   "source": [
    "A small frog wants to get to the other side of the road. The frog is currently located at position X and wants to get to a position greater than or equal to Y. The small frog always jumps a fixed distance, D.\n",
    "\n",
    "Count the minimal number of jumps that the small frog must perform to reach its target.\n",
    "\n",
    "Write a function:\n",
    "\n",
    "def solution(X, Y, D)\n",
    "\n",
    "that, given three integers X, Y and D, returns the minimal number of jumps from position X to a position equal to or greater than Y.\n",
    "\n",
    "For example, given:\n",
    "\n",
    "  X = 10\n",
    "  Y = 85\n",
    "  D = 30\n",
    "the function should return 3, because the frog will be positioned as follows:\n",
    "\n",
    "after the first jump, at position 10 + 30 = 40\n",
    "after the second jump, at position 10 + 30 + 30 = 70\n",
    "after the third jump, at position 10 + 30 + 30 + 30 = 100\n",
    "Write an efficient algorithm for the following assumptions:\n",
    "\n",
    "X, Y and D are integers within the range [1..1,000,000,000];\n",
    "X ≤ Y."
   ]
  },
  {
   "cell_type": "markdown",
   "metadata": {},
   "source": [
    "Una pequeña rana quiere llegar al otro lado del camino. La rana se encuentra actualmente en la posición X y quiere llegar a una posición mayor o igual a Y. La rana pequeña siempre salta una distancia fija, D.\n",
    "\n",
    "Cuenta el número mínimo de saltos que debe realizar la ranita para llegar a su objetivo.\n",
    "\n",
    "Escribe una función:\n",
    "\n",
    "solución definida (X, Y, D)\n",
    "\n",
    "que, dados tres enteros X, Y y D, devuelve el número mínimo de saltos desde la posición X a una posición igual o mayor que Y.\n",
    "\n",
    "Por ejemplo, dado:\n",
    "\n",
    "   X = 10\n",
    "   Y = 85\n",
    "   D = 30\n",
    "la función debería devolver 3, porque la rana se posicionará de la siguiente manera:\n",
    "\n",
    "después del primer salto, en la posición 10 + 30 = 40\n",
    "después del segundo salto, en la posición 10 + 30 + 30 = 70\n",
    "después del tercer salto, en la posición 10 + 30 + 30 + 30 = 100\n",
    "Escriba un algoritmo eficiente para los siguientes supuestos:\n",
    "\n",
    "X, Y y D son números enteros dentro del rango [1..1.000.000.000];\n",
    "X ≤ Y."
   ]
  },
  {
   "cell_type": "code",
   "execution_count": null,
   "metadata": {},
   "outputs": [],
   "source": [
    "def saltos(X, Y, D):\n",
    "    # Calcular la distancia a cubrir\n",
    "    distancia = Y - X\n",
    "\n",
    "    # Calcular el número mínimo de saltos necesarios usando la división entera\n",
    "    saltos_minimos = distancia // D\n",
    "\n",
    "    # Si hay un residuo, se necesita un salto adicional\n",
    "    if distancia % D != 0:\n",
    "        saltos_minimos += 1\n",
    "\n",
    "    return saltos_minimos"
   ]
  },
  {
   "cell_type": "code",
   "execution_count": null,
   "metadata": {},
   "outputs": [],
   "source": [
    "# Ejemplo de uso:\n",
    "X = 10\n",
    "Y = 85\n",
    "D = 30\n",
    "print(saltos(X, Y, D))  # Debería devolver 3"
   ]
  },
  {
   "cell_type": "markdown",
   "metadata": {},
   "source": [
    "Este algoritmo calcula la distancia a cubrir (distancia = Y - X) y luego utiliza la división entera (//) para encontrar el número mínimo de saltos necesarios. Si hay un residuo al dividir la distancia por la longitud del salto, se requiere un salto adicional. El resultado es la suma del resultado de la división entera y el salto adicional. Esta solución tiene una complejidad temporal de O(1) y es eficiente para las restricciones dadas."
   ]
  }
 ],
 "metadata": {
  "language_info": {
   "name": "python"
  }
 },
 "nbformat": 4,
 "nbformat_minor": 2
}
