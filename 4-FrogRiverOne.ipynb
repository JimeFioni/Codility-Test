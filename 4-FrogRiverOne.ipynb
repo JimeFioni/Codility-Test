{
 "cells": [
  {
   "cell_type": "markdown",
   "metadata": {},
   "source": [
    "A small frog wants to get to the other side of a river. The frog is initially located on one bank of the river (position 0) and wants to get to the opposite bank (position X+1). Leaves fall from a tree onto the surface of the river.\n",
    "\n",
    "You are given an array A consisting of N integers representing the falling leaves. A[K] represents the position where one leaf falls at time K, measured in seconds.\n",
    "\n",
    "The goal is to find the earliest time when the frog can jump to the other side of the river. The frog can cross only when leaves appear at every position across the river from 1 to X (that is, we want to find the earliest moment when all the positions from 1 to X are covered by leaves). You may assume that the speed of the current in the river is negligibly small, i.e. the leaves do not change their positions once they fall in the river.\n",
    "\n",
    "For example, you are given integer X = 5 and array A such that:\n",
    "\n",
    "  A[0] = 1\n",
    "  A[1] = 3\n",
    "  A[2] = 1\n",
    "  A[3] = 4\n",
    "  A[4] = 2\n",
    "  A[5] = 3\n",
    "  A[6] = 5\n",
    "  A[7] = 4\n",
    "In second 6, a leaf falls into position 5. This is the earliest time when leaves appear in every position across the river.\n",
    "\n",
    "Write a function:\n",
    "\n",
    "def solution(X, A)\n",
    "\n",
    "that, given a non-empty array A consisting of N integers and integer X, returns the earliest time when the frog can jump to the other side of the river.\n",
    "\n",
    "If the frog is never able to jump to the other side of the river, the function should return −1.\n",
    "\n",
    "For example, given X = 5 and array A such that:\n",
    "\n",
    "  A[0] = 1\n",
    "  A[1] = 3\n",
    "  A[2] = 1\n",
    "  A[3] = 4\n",
    "  A[4] = 2\n",
    "  A[5] = 3\n",
    "  A[6] = 5\n",
    "  A[7] = 4\n",
    "the function should return 6, as explained above.\n",
    "\n",
    "Write an efficient algorithm for the following assumptions:\n",
    "\n",
    "N and X are integers within the range [1..100,000];\n",
    "each element of array A is an integer within the range [1..X]."
   ]
  },
  {
   "cell_type": "markdown",
   "metadata": {},
   "source": [
    "Una pequeña rana quiere llegar al otro lado de un río. La rana se encuentra inicialmente en una orilla del río (posición 0) y quiere llegar a la orilla opuesta (posición X+1). Las hojas caen de un árbol a la superficie del río.\n",
    "\n",
    "Se le proporciona una matriz A que consta de N números enteros que representan las hojas que caen. A[K] representa la posición donde cae una hoja en el tiempo K, medida en segundos.\n",
    "\n",
    "El objetivo es encontrar el momento más temprano en el que la rana pueda saltar al otro lado del río. La rana puede cruzar sólo cuando aparecen hojas en cada posición al otro lado del río desde 1 hasta X (es decir, queremos encontrar el momento más temprano en el que todas las posiciones desde 1 hasta X están cubiertas por hojas). Se puede suponer que la velocidad de la corriente en el río es insignificante, es decir, las hojas no cambian de posición una vez que caen al río.\n",
    "\n",
    "Por ejemplo, se le proporciona un número entero X = 5 y una matriz A tal que:\n",
    "\n",
    "   A[0] = 1\n",
    "   A[1] = 3\n",
    "   A[2] = 1\n",
    "   A[3] = 4\n",
    "   A[4] = 2\n",
    "   A[5] = 3\n",
    "   A[6] = 5\n",
    "   A[7] = 4\n",
    "En el segundo 6, una hoja cae en la posición 5. Esta es la primera vez que aparecen hojas en todas las posiciones al otro lado del río.\n",
    "\n",
    "Escribe una función:\n",
    "\n",
    "solución definida (X, A)\n",
    "\n",
    "que, dada una matriz A no vacía que consta de N enteros y un entero X, devuelve el momento más temprano en que la rana puede saltar al otro lado del río.\n",
    "\n",
    "Si la rana nunca puede saltar al otro lado del río, la función debería devolver −1.\n",
    "\n",
    "Por ejemplo, dado X = 5 y una matriz A tal que:\n",
    "\n",
    "   A[0] = 1\n",
    "   A[1] = 3\n",
    "   A[2] = 1\n",
    "   A[3] = 4\n",
    "   A[4] = 2\n",
    "   A[5] = 3\n",
    "   A[6] = 5\n",
    "   A[7] = 4\n",
    "la función debería devolver 6, como se explicó anteriormente.\n",
    "\n",
    "Escriba un algoritmo eficiente para los siguientes supuestos:\n",
    "\n",
    "N y X son números enteros dentro del rango [1..100.000];\n",
    "cada elemento de la matriz A es un número entero dentro del rango [1..X]."
   ]
  },
  {
   "cell_type": "code",
   "execution_count": null,
   "metadata": {},
   "outputs": [],
   "source": [
    "def frog(X, A):\n",
    "    # Utilizar un conjunto para llevar un seguimiento de las posiciones cubiertas\n",
    "    posiciones_cubiertas = set()\n",
    "\n",
    "    # Iterar a través del array de tiempo y posiciones de hojas\n",
    "    for tiempo, posicion in enumerate(A):\n",
    "        posiciones_cubiertas.add(posicion)\n",
    "\n",
    "        # Verificar si todas las posiciones desde 1 hasta X están cubiertas\n",
    "        if len(posiciones_cubiertas) == X:\n",
    "            return tiempo\n",
    "\n",
    "    # Si no se pueden cubrir todas las posiciones, devolver -1\n",
    "    return -1"
   ]
  },
  {
   "cell_type": "code",
   "execution_count": null,
   "metadata": {},
   "outputs": [],
   "source": [
    "X = 5\n",
    "A = [1, 3, 1, 4, 2, 3, 5, 4]\n",
    "print(frog(X, A))  # Debería devolver 6"
   ]
  },
  {
   "cell_type": "markdown",
   "metadata": {},
   "source": [
    "Esta función utiliza un conjunto (posiciones_cubiertas) para rastrear las posiciones de las hojas que ya han caído en el río. Se itera a través del array de tiempo y posiciones de hojas, y en cada iteración, se agrega la posición de la hoja al conjunto. Cuando todas las posiciones desde 1 hasta X están cubiertas, se devuelve el tiempo actual como el momento en que la rana puede saltar al otro lado del río. Si no se pueden cubrir todas las posiciones, la función devuelve -1."
   ]
  }
 ],
 "metadata": {
  "language_info": {
   "name": "python"
  }
 },
 "nbformat": 4,
 "nbformat_minor": 2
}
