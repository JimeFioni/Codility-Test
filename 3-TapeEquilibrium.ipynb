{
 "cells": [
  {
   "cell_type": "markdown",
   "metadata": {},
   "source": [
    "A non-empty array A consisting of N integers is given. Array A represents numbers on a tape.\n",
    "\n",
    "Any integer P, such that 0 < P < N, splits this tape into two non-empty parts: A[0], A[1], ..., A[P − 1] and A[P], A[P + 1], ..., A[N − 1].\n",
    "\n",
    "The difference between the two parts is the value of: |(A[0] + A[1] + ... + A[P − 1]) − (A[P] + A[P + 1] + ... + A[N − 1])|\n",
    "\n",
    "In other words, it is the absolute difference between the sum of the first part and the sum of the second part.\n",
    "\n",
    "For example, consider array A such that:\n",
    "\n",
    "  A[0] = 3\n",
    "  A[1] = 1\n",
    "  A[2] = 2\n",
    "  A[3] = 4\n",
    "  A[4] = 3\n",
    "We can split this tape in four places:\n",
    "\n",
    "P = 1, difference = |3 − 10| = 7\n",
    "P = 2, difference = |4 − 9| = 5\n",
    "P = 3, difference = |6 − 7| = 1\n",
    "P = 4, difference = |10 − 3| = 7\n",
    "Write a function:\n",
    "\n",
    "def solution(A)\n",
    "\n",
    "that, given a non-empty array A of N integers, returns the minimal difference that can be achieved.\n",
    "\n",
    "For example, given:\n",
    "\n",
    "  A[0] = 3\n",
    "  A[1] = 1\n",
    "  A[2] = 2\n",
    "  A[3] = 4\n",
    "  A[4] = 3\n",
    "the function should return 1, as explained above.\n",
    "\n",
    "Write an efficient algorithm for the following assumptions:\n",
    "\n",
    "N is an integer within the range [2..100,000];\n",
    "each element of array A is an integer within the range [−1,000..1,000]."
   ]
  },
  {
   "cell_type": "markdown",
   "metadata": {},
   "source": [
    "Se proporciona una matriz A no vacía que consta de N números enteros. La matriz A representa números en una cinta.\n",
    "\n",
    "Cualquier número entero P, tal que 0 < P < N, divide esta cinta en dos partes no vacías: A[0], A[1], ..., A[P − 1] y A[P], A[ P + 1], ..., UN[norte − 1].\n",
    "\n",
    "La diferencia entre las dos partes es el valor de: |(A[0] + A[1] + ... + A[P − 1]) − (A[P] + A[P + 1] + .. + A[N − 1])|\n",
    "\n",
    "En otras palabras, es la diferencia absoluta entre la suma de la primera parte y la suma de la segunda parte.\n",
    "\n",
    "Por ejemplo, considere la matriz A tal que:\n",
    "\n",
    "   A[0] = 3\n",
    "   A[1] = 1\n",
    "   A[2] = 2\n",
    "   A[3] = 4\n",
    "   A[4] = 3\n",
    "Podemos dividir esta cinta en cuatro lugares:\n",
    "\n",
    "P = 1, diferencia = |3 − 10| = 7\n",
    "P = 2, diferencia = |4 − 9| = 5\n",
    "P = 3, diferencia = |6 − 7| = 1\n",
    "P = 4, diferencia = |10 − 3| = 7\n",
    "Escribe una función:\n",
    "\n",
    "solución definida (A)\n",
    "\n",
    "que, dada una matriz A no vacía de N enteros, devuelve la diferencia mínima que se puede lograr.\n",
    "\n",
    "Por ejemplo, dado:\n",
    "\n",
    "   A[0] = 3\n",
    "   A[1] = 1\n",
    "   A[2] = 2\n",
    "   A[3] = 4\n",
    "   A[4] = 3\n",
    "la función debería devolver 1, como se explicó anteriormente.\n",
    "\n",
    "Escriba un algoritmo eficiente para los siguientes supuestos:\n",
    "\n",
    "N es un número entero dentro del rango [2..100.000];\n",
    "cada elemento de la matriz A es un número entero dentro del rango [−1,000..1,000]."
   ]
  },
  {
   "cell_type": "markdown",
   "metadata": {},
   "source": [
    "Para resolver este problema, puedes iterar a través del array y calcular las sumas acumulativas de las dos partes para cada punto de división posible. La diferencia mínima es entonces la diferencia absoluta entre estas sumas acumulativas."
   ]
  },
  {
   "cell_type": "code",
   "execution_count": null,
   "metadata": {},
   "outputs": [],
   "source": [
    "def diference(A):\n",
    "    # Calcular la suma total del array\n",
    "    suma_total = sum(A)\n",
    "    \n",
    "    # Inicializar la diferencia mínima con un valor grande\n",
    "    diferencia_minima = float('inf')\n",
    "    \n",
    "    # Inicializar la suma de la primera parte en cero\n",
    "    suma_primera_parte = 0\n",
    "    \n",
    "    # Iterar a través del array para encontrar la diferencia mínima\n",
    "    for elemento in A[:-1]:\n",
    "        suma_primera_parte += elemento\n",
    "        suma_segunda_parte = suma_total - suma_primera_parte\n",
    "        diferencia = abs(suma_primera_parte - suma_segunda_parte)\n",
    "        diferencia_minima = min(diferencia_minima, diferencia)\n",
    "    \n",
    "    return diferencia_minima"
   ]
  },
  {
   "cell_type": "code",
   "execution_count": null,
   "metadata": {},
   "outputs": [],
   "source": [
    "A = [3, 1, 2, 4, 3]\n",
    "print(diference(A))  # Debería devolver 1"
   ]
  },
  {
   "cell_type": "markdown",
   "metadata": {},
   "source": [
    "Esta solución tiene una complejidad temporal de O(N) ya que itera a través del array una vez. Encuentra eficientemente la diferencia mínima entre las dos partes de la cinta."
   ]
  }
 ],
 "metadata": {
  "language_info": {
   "name": "python"
  }
 },
 "nbformat": 4,
 "nbformat_minor": 2
}
