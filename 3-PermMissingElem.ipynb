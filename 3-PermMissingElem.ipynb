{
 "cells": [
  {
   "cell_type": "markdown",
   "metadata": {},
   "source": [
    "An array A consisting of N different integers is given. The array contains integers in the range [1..(N + 1)], which means that exactly one element is missing.\n",
    "\n",
    "Your goal is to find that missing element.\n",
    "\n",
    "Write a function:\n",
    "\n",
    "def solution(A)\n",
    "\n",
    "that, given an array A, returns the value of the missing element.\n",
    "\n",
    "For example, given array A such that:\n",
    "\n",
    "  A[0] = 2\n",
    "  A[1] = 3\n",
    "  A[2] = 1\n",
    "  A[3] = 5\n",
    "the function should return 4, as it is the missing element.\n",
    "\n",
    "Write an efficient algorithm for the following assumptions:\n",
    "\n",
    "N is an integer within the range [0..100,000];\n",
    "the elements of A are all distinct;\n",
    "each element of array A is an integer within the range [1..(N + 1)]."
   ]
  },
  {
   "cell_type": "markdown",
   "metadata": {},
   "source": [
    "Se proporciona una matriz A que consta de N números enteros diferentes. La matriz contiene números enteros en el rango [1..(N + 1)], lo que significa que falta exactamente un elemento.\n",
    "\n",
    "Tu objetivo es encontrar ese elemento que falta.\n",
    "\n",
    "Escribe una función:\n",
    "\n",
    "solución definida (A)\n",
    "\n",
    "que, dada una matriz A, devuelve el valor del elemento faltante.\n",
    "\n",
    "Por ejemplo, dada la matriz A tal que:\n",
    "\n",
    "   A[0] = 2\n",
    "   A[1] = 3\n",
    "   A[2] = 1\n",
    "   A[3] = 5\n",
    "la función debería devolver 4, ya que es el elemento que falta.\n",
    "\n",
    "Escriba un algoritmo eficiente para los siguientes supuestos:\n",
    "\n",
    "N es un número entero dentro del rango [0..100.000];\n",
    "los elementos de A son todos distintos;\n",
    "cada elemento de la matriz A es un número entero dentro del rango [1..(N + 1)]."
   ]
  },
  {
   "cell_type": "code",
   "execution_count": null,
   "metadata": {},
   "outputs": [],
   "source": [
    "def elementoPerdido(A):\n",
    "    # Calcular la suma esperada de enteros de 1 a N+1\n",
    "    suma_esperada = ((len(A) + 1) * (len(A) + 2)) // 2\n",
    "\n",
    "    # Calcular la suma real de los elementos en el array\n",
    "    suma_real = sum(A)\n",
    "\n",
    "    # Encontrar el elemento faltante restando la suma real de la suma esperada\n",
    "    elemento_faltante = suma_esperada - suma_real\n",
    "\n",
    "    return elemento_faltante"
   ]
  },
  {
   "cell_type": "code",
   "execution_count": null,
   "metadata": {},
   "outputs": [],
   "source": [
    "A = [2, 3, 1, 5]\n",
    "print(elementoPerdido(A))  # Debería devolver 4"
   ]
  },
  {
   "cell_type": "markdown",
   "metadata": {},
   "source": [
    "Esta solución tiene una complejidad temporal de O(N), ya que itera a través del array una vez. Es eficiente para las restricciones dadas."
   ]
  }
 ],
 "metadata": {
  "language_info": {
   "name": "python"
  }
 },
 "nbformat": 4,
 "nbformat_minor": 2
}
