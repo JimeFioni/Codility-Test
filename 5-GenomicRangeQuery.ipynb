{
 "cells": [
  {
   "cell_type": "markdown",
   "metadata": {},
   "source": [
    "A DNA sequence can be represented as a string consisting of the letters A, C, G and T, which correspond to the types of successive nucleotides in the sequence. Each nucleotide has an impact factor, which is an integer. Nucleotides of types A, C, G and T have impact factors of 1, 2, 3 and 4, respectively. You are going to answer several queries of the form: What is the minimal impact factor of nucleotides contained in a particular part of the given DNA sequence?\n",
    "\n",
    "The DNA sequence is given as a non-empty string S = S[0]S[1]...S[N-1] consisting of N characters. There are M queries, which are given in non-empty arrays P and Q, each consisting of M integers. The K-th query (0 ≤ K < M) requires you to find the minimal impact factor of nucleotides contained in the DNA sequence between positions P[K] and Q[K] (inclusive).\n",
    "\n",
    "For example, consider string S = CAGCCTA and arrays P, Q such that:\n",
    "\n",
    "    P[0] = 2    Q[0] = 4\n",
    "    P[1] = 5    Q[1] = 5\n",
    "    P[2] = 0    Q[2] = 6\n",
    "The answers to these M = 3 queries are as follows:\n",
    "\n",
    "The part of the DNA between positions 2 and 4 contains nucleotides G and C (twice), whose impact factors are 3 and 2 respectively, so the answer is 2.\n",
    "The part between positions 5 and 5 contains a single nucleotide T, whose impact factor is 4, so the answer is 4.\n",
    "The part between positions 0 and 6 (the whole string) contains all nucleotides, in particular nucleotide A whose impact factor is 1, so the answer is 1.\n",
    "Write a function:\n",
    "\n",
    "def solution(S, P, Q)\n",
    "\n",
    "that, given a non-empty string S consisting of N characters and two non-empty arrays P and Q consisting of M integers, returns an array consisting of M integers specifying the consecutive answers to all queries.\n",
    "\n",
    "Result array should be returned as an array of integers.\n",
    "\n",
    "For example, given the string S = CAGCCTA and arrays P, Q such that:\n",
    "\n",
    "    P[0] = 2    Q[0] = 4\n",
    "    P[1] = 5    Q[1] = 5\n",
    "    P[2] = 0    Q[2] = 6\n",
    "the function should return the values [2, 4, 1], as explained above.\n",
    "\n",
    "Write an efficient algorithm for the following assumptions:\n",
    "\n",
    "N is an integer within the range [1..100,000];\n",
    "M is an integer within the range [1..50,000];\n",
    "each element of arrays P and Q is an integer within the range [0..N - 1];\n",
    "P[K] ≤ Q[K], where 0 ≤ K < M;\n",
    "string S consists only of upper-case English letters A, C, G, T."
   ]
  },
  {
   "cell_type": "markdown",
   "metadata": {},
   "source": [
    "Una secuencia de ADN se puede representar como una cadena formada por las letras A, C, G y T, que corresponden a los tipos de nucleótidos sucesivos de la secuencia. Cada nucleótido tiene un factor de impacto, que es un número entero. Los nucleótidos de tipos A, C, G y T tienen factores de impacto de 1, 2, 3 y 4, respectivamente. Responderá varias preguntas de la forma: ¿Cuál es el factor de impacto mínimo de los nucleótidos contenidos en una parte particular de la secuencia de ADN dada?\n",
    "\n",
    "La secuencia de ADN se proporciona como una cadena no vacía S = S[0]S[1]...S[N-1] que consta de N caracteres. Hay M consultas, que se dan en matrices P y Q no vacías, cada una de las cuales consta de M enteros. La consulta K-ésima (0 ≤ K < M) requiere que encuentre el factor de impacto mínimo de los nucleótidos contenidos en la secuencia de ADN entre las posiciones P[K] y Q[K] (inclusive).\n",
    "\n",
    "Por ejemplo, considere la cadena S = CAGCCTA y las matrices P, Q tales que:\n",
    "\n",
    "     P[0] = 2 Q[0] = 4\n",
    "     P[1] = 5 Q[1] = 5\n",
    "     P[2] = 0 Q[2] = 6\n",
    "Las respuestas a estas consultas M = 3 son las siguientes:\n",
    "\n",
    "La parte del ADN entre las posiciones 2 y 4 contiene los nucleótidos G y C (dos veces), cuyos factores de impacto son 3 y 2 respectivamente, por lo que la respuesta es 2.\n",
    "La parte entre las posiciones 5 y 5 contiene un único nucleótido T, cuyo factor de impacto es 4, por lo que la respuesta es 4.\n",
    "La parte entre las posiciones 0 y 6 (la cadena completa) contiene todos los nucleótidos, en particular el nucleótido A cuyo factor de impacto es 1, por lo que la respuesta es 1.\n",
    "Escribe una función:\n",
    "\n",
    "solución def (S, P, Q)\n",
    "\n",
    "que, dada una cadena no vacía S que consta de N caracteres y dos matrices no vacías P y Q que constan de M enteros, devuelve una matriz que consta de M enteros que especifica las respuestas consecutivas a todas las consultas.\n",
    "\n",
    "La matriz de resultados debe devolverse como una matriz de números enteros.\n",
    "\n",
    "Por ejemplo, dada la cadena S = CAGCCTA y las matrices P, Q tales que:\n",
    "\n",
    "     P[0] = 2 Q[0] = 4\n",
    "     P[1] = 5 Q[1] = 5\n",
    "     P[2] = 0 Q[2] = 6\n",
    "la función debe devolver los valores [2, 4, 1], como se explicó anteriormente.\n",
    "\n",
    "Escriba un algoritmo eficiente para los siguientes supuestos:\n",
    "\n",
    "N es un número entero dentro del rango [1..100.000];\n",
    "M es un número entero dentro del rango [1..50.000];\n",
    "cada elemento de las matrices P y Q es un número entero dentro del rango [0..N - 1];\n",
    "P[K] ≤ Q[K], donde 0 ≤ K < M;\n",
    "La cadena S consta únicamente de letras mayúsculas en inglés A, C, G, T."
   ]
  },
  {
   "cell_type": "code",
   "execution_count": null,
   "metadata": {},
   "outputs": [],
   "source": [
    "def solution(S, P, Q):\n",
    "    # Mapear caracteres de nucleótidos a sus factores de impacto\n",
    "    factores_impacto = {'A': 1, 'C': 2, 'G': 3, 'T': 4}\n",
    "\n",
    "    # Inicializar un array para almacenar los resultados\n",
    "    resultado = []\n",
    "\n",
    "    # Iterar a través de cada consulta\n",
    "    for k in range(len(P)):\n",
    "        # Extraer la subcadena entre las posiciones P[K] y Q[K]\n",
    "        subcadena = S[P[k]: Q[k] + 1]\n",
    "\n",
    "        # Encontrar el factor de impacto mínimo en la subcadena\n",
    "        min_impacto = min(factores_impacto[nucleotido] for nucleotido in subcadena)\n",
    "\n",
    "        # Agregar el resultado al array\n",
    "        resultado.append(min_impacto)\n",
    "\n",
    "    return resultado"
   ]
  },
  {
   "cell_type": "code",
   "execution_count": null,
   "metadata": {},
   "outputs": [],
   "source": [
    "S = \"CAGCCTA\"\n",
    "P = [2, 5, 0]\n",
    "Q = [4, 5, 6]\n",
    "print(solution(S, P, Q))  # Debería devolver [2, 4, 1]"
   ]
  },
  {
   "cell_type": "markdown",
   "metadata": {},
   "source": [
    "Esta solución utiliza un diccionario para mapear los caracteres de nucleótidos a sus factores de impacto. Luego, para cada consulta, extrae la subcadena correspondiente y encuentra el factor de impacto mínimo en esa subcadena. La complejidad temporal de esta solución es O(N + M), donde N es la longitud de la cadena S y M es la cantidad de consultas."
   ]
  }
 ],
 "metadata": {
  "language_info": {
   "name": "python"
  }
 },
 "nbformat": 4,
 "nbformat_minor": 2
}
