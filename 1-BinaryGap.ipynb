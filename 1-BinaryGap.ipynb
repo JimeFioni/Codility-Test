{
 "cells": [
  {
   "cell_type": "markdown",
   "metadata": {},
   "source": [
    "A binary gap within a positive integer N is any maximal sequence of consecutive zeros that is surrounded by ones at both ends in the binary representation of N.\n",
    "\n",
    "For example, number 9 has binary representation 1001 and contains a binary gap of length 2. The number 529 has binary representation 1000010001 and contains two binary gaps: one of length 4 and one of length 3. The number 20 has binary representation 10100 and contains one binary gap of length 1. The number 15 has binary representation 1111 and has no binary gaps. The number 32 has binary representation 100000 and has no binary gaps.\n",
    "\n",
    "Write a function:\n",
    "\n",
    "def solution(N)\n",
    "\n",
    "that, given a positive integer N, returns the length of its longest binary gap. The function should return 0 if N doesn't contain a binary gap.\n",
    "\n",
    "For example, given N = 1041 the function should return 5, because N has binary representation 10000010001 and so its longest binary gap is of length 5. Given N = 32 the function should return 0, because N has binary representation '100000' and thus no binary gaps.\n",
    "\n",
    "Write an efficient algorithm for the following assumptions:\n",
    "\n",
    "N is an integer within the range [1..2,147,483,647]."
   ]
  },
  {
   "cell_type": "markdown",
   "metadata": {},
   "source": [
    "Un espacio binario dentro de un entero positivo N es cualquier secuencia máxima de ceros consecutivos que está rodeada por unos en ambos extremos en la representación binaria de N.\n",
    "\n",
    "Por ejemplo, el número 9 tiene representación binaria 1001 y contiene un espacio binario de longitud 2. El número 529 tiene representación binaria 1000010001 y contiene dos espacios binarios: uno de longitud 4 y otro de longitud 3. El número 20 tiene representación binaria 10100 y contiene un espacio binario de longitud 1. El número 15 tiene representación binaria 1111 y no tiene espacios binarios. El número 32 tiene representación binaria 100000 y no tiene espacios binarios.\n",
    "\n",
    "Escribe una función:\n",
    "\n",
    "solución definida (N)\n",
    "\n",
    "que, dado un número entero positivo N, devuelve la longitud de su espacio binario más largo. La función debería devolver 0 si N no contiene un espacio binario.\n",
    "\n",
    "Por ejemplo, dado N = 1041, la función debería devolver 5, porque N tiene una representación binaria 10000010001 y, por lo tanto, su espacio binario más largo tiene una longitud de 5. Dado N = 32, la función debería devolver 0, porque N tiene una representación binaria '100000' y, por lo tanto, sin brechas binarias.\n",
    "\n",
    "Escriba un algoritmo eficiente para los siguientes supuestos:\n",
    "\n",
    "N es un número entero dentro del rango [1..2,147,483,647]."
   ]
  },
  {
   "cell_type": "code",
   "execution_count": null,
   "metadata": {},
   "outputs": [],
   "source": [
    "# you can write to stdout for debugging purposes, e.g.\n",
    "# print(\"this is a debug message\")\n",
    "\n",
    "def solution(N):\n",
    "        # Convertir el número a su representación binaria\n",
    "    binary_representation = bin(N)[2:]\n",
    "    \n",
    "    # Inicializar variables para el seguimiento de la longitud del gap actual y la longitud máxima del gap\n",
    "    current_gap_length = 0\n",
    "    max_gap_length = 0\n",
    "    \n",
    "    # Iterar a través de la representación binaria\n",
    "    for digit in binary_representation:\n",
    "        if digit == '0':\n",
    "            # Si encontramos un cero, incrementar la longitud del gap actual\n",
    "            current_gap_length += 1\n",
    "        elif digit == '1':\n",
    "            # Si encontramos un uno, actualizar la longitud máxima  del gap si es necesario\n",
    "            max_gap_length = max(max_gap_length, current_gap_length)\n",
    "            # Restablecer la longitud del gap actual\n",
    "            current_gap_length = 0\n",
    "    \n",
    "    # Devolver la longitud máxima del gap encontrado\n",
    "    return max_gap_length"
   ]
  },
  {
   "cell_type": "code",
   "execution_count": null,
   "metadata": {},
   "outputs": [],
   "source": [
    "print(solution(1041)) "
   ]
  },
  {
   "cell_type": "code",
   "execution_count": null,
   "metadata": {},
   "outputs": [],
   "source": [
    "def solucion(N):\n",
    "    # Convertir el número a su representación binaria\n",
    "    representacion_binaria = bin(N)[2:]\n",
    "    \n",
    "    # Inicializar variables para el seguimiento de la longitud del espacio binario actual y la longitud máxima del espacio binario\n",
    "    longitud_actual = 0\n",
    "    longitud_maxima = 0\n",
    "    \n",
    "    # Iterar a través de la representación binaria\n",
    "    for digito in representacion_binaria:\n",
    "        if digito == '0':\n",
    "            # Si encontramos un cero, incrementar la longitud del espacio binario actual\n",
    "            longitud_actual += 1\n",
    "        elif digito == '1':\n",
    "            # Si encontramos un uno, actualizar la longitud máxima del espacio binario si es necesario\n",
    "            longitud_maxima = max(longitud_maxima, longitud_actual)\n",
    "            # Restablecer la longitud del espacio binario actual\n",
    "            longitud_actual = 0\n",
    "    \n",
    "    # Devolver la longitud máxima del espacio binario encontrado\n",
    "    return longitud_maxima"
   ]
  },
  {
   "cell_type": "markdown",
   "metadata": {},
   "source": [
    "Este código primero convierte el número a su representación binaria y luego itera a través de los dígitos. Mantiene un seguimiento de la longitud del gap actual y actualiza la longitud máxima del gap cuando encuentra un uno. Al final, devuelve la longitud máxima del gap encontrado. Este enfoque es eficiente ya que solo requiere una pasada a través de la representación binaria del número."
   ]
  }
 ],
 "metadata": {
  "language_info": {
   "name": "python"
  }
 },
 "nbformat": 4,
 "nbformat_minor": 2
}
