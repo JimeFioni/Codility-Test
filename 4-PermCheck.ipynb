{
 "cells": [
  {
   "cell_type": "markdown",
   "metadata": {},
   "source": [
    "A non-empty array A consisting of N integers is given.\n",
    "\n",
    "A permutation is a sequence containing each element from 1 to N once, and only once.\n",
    "\n",
    "For example, array A such that:\n",
    "\n",
    "    A[0] = 4\n",
    "    A[1] = 1\n",
    "    A[2] = 3\n",
    "    A[3] = 2\n",
    "is a permutation, but array A such that:\n",
    "\n",
    "    A[0] = 4\n",
    "    A[1] = 1\n",
    "    A[2] = 3\n",
    "is not a permutation, because value 2 is missing.\n",
    "\n",
    "The goal is to check whether array A is a permutation.\n",
    "\n",
    "Write a function:\n",
    "\n",
    "def solution(A)\n",
    "\n",
    "that, given an array A, returns 1 if array A is a permutation and 0 if it is not.\n",
    "\n",
    "For example, given array A such that:\n",
    "\n",
    "    A[0] = 4\n",
    "    A[1] = 1\n",
    "    A[2] = 3\n",
    "    A[3] = 2\n",
    "the function should return 1.\n",
    "\n",
    "Given array A such that:\n",
    "\n",
    "    A[0] = 4\n",
    "    A[1] = 1\n",
    "    A[2] = 3\n",
    "the function should return 0.\n",
    "\n",
    "Write an efficient algorithm for the following assumptions:\n",
    "\n",
    "N is an integer within the range [1..100,000];\n",
    "each element of array A is an integer within the range [1..1,000,000,000]."
   ]
  },
  {
   "cell_type": "markdown",
   "metadata": {},
   "source": [
    "Se proporciona una matriz A no vacía que consta de N números enteros.\n",
    "\n",
    "Una permutación es una secuencia que contiene cada elemento del 1 al N una vez y sólo una vez.\n",
    "\n",
    "Por ejemplo, la matriz A tal que:\n",
    "\n",
    "     A[0] = 4\n",
    "     A[1] = 1\n",
    "     A[2] = 3\n",
    "     A[3] = 2\n",
    "es una permutación, pero la matriz A es tal que:\n",
    "\n",
    "     A[0] = 4\n",
    "     A[1] = 1\n",
    "     A[2] = 3\n",
    "no es una permutación porque falta el valor 2.\n",
    "\n",
    "El objetivo es comprobar si la matriz A es una permutación.\n",
    "\n",
    "Escribe una función:\n",
    "\n",
    "solución definida (A)\n",
    "\n",
    "que, dada una matriz A, devuelve 1 si la matriz A es una permutación y 0 si no lo es.\n",
    "\n",
    "Por ejemplo, dada la matriz A tal que:\n",
    "\n",
    "     A[0] = 4\n",
    "     A[1] = 1\n",
    "     A[2] = 3\n",
    "     A[3] = 2\n",
    "la función debería devolver 1.\n",
    "\n",
    "Dada la matriz A tal que:\n",
    "\n",
    "     A[0] = 4\n",
    "     A[1] = 1\n",
    "     A[2] = 3\n",
    "la función debería devolver 0.\n",
    "\n",
    "Escriba un algoritmo eficiente para los siguientes supuestos:\n",
    "\n",
    "N es un número entero dentro del rango [1..100.000];\n",
    "cada elemento de la matriz A es un número entero dentro del rango [1..1,000,000,000]."
   ]
  },
  {
   "cell_type": "code",
   "execution_count": null,
   "metadata": {},
   "outputs": [],
   "source": [
    "def solution(A):\n",
    "    # Verificar si el conjunto de números del 1 al N es igual al conjunto en A\n",
    "    return 1 if set(range(1, len(A)+1)) == set(A) else 0\n"
   ]
  },
  {
   "cell_type": "code",
   "execution_count": null,
   "metadata": {},
   "outputs": [],
   "source": [
    "A_permutation = [4, 1, 3, 2]\n",
    "\n",
    "print(solution(A_permutation))  # Debería devolver 1\n",
    "\n",
    "A_not_permutation = [4, 1, 3]\n",
    "\n",
    "print(solution(A_not_permutation))  # Debería devolver 0"
   ]
  },
  {
   "cell_type": "markdown",
   "metadata": {},
   "source": [
    "Esta función compara si el conjunto de números del 1 al N es igual al conjunto presente en A. Si ambos conjuntos son iguales, entonces A es una permutación y la función devuelve 1. En caso contrario, devuelve 0.\n",
    "\n",
    "Esta solución tiene una complejidad temporal de O(N) y es eficiente para las restricciones dadas."
   ]
  }
 ],
 "metadata": {
  "language_info": {
   "name": "python"
  }
 },
 "nbformat": 4,
 "nbformat_minor": 2
}
